{
 "cells": [
  {
   "cell_type": "markdown",
   "metadata": {},
   "source": [
    "# Apply Logistic Regression to the data."
   ]
  },
  {
   "cell_type": "markdown",
   "metadata": {},
   "source": [
    "## Import libries."
   ]
  },
  {
   "cell_type": "code",
   "execution_count": 90,
   "metadata": {},
   "outputs": [],
   "source": [
    "import numpy as np\n",
    "import pandas as pd\n",
    "import statsmodels.api as sm\n",
    "import matplotlib.pyplot as plt\n",
    "from patsy import dmatrices\n",
    "from sklearn.linear_model import LogisticRegression\n",
    "from sklearn.model_selection import train_test_split\n",
    "from sklearn import metrics\n",
    "from sklearn.model_selection import cross_val_score"
   ]
  },
  {
   "cell_type": "markdown",
   "metadata": {},
   "source": [
    "## Import csv."
   ]
  },
  {
   "cell_type": "code",
   "execution_count": 91,
   "metadata": {},
   "outputs": [
    {
     "data": {
      "text/html": [
       "<div>\n",
       "<style scoped>\n",
       "    .dataframe tbody tr th:only-of-type {\n",
       "        vertical-align: middle;\n",
       "    }\n",
       "\n",
       "    .dataframe tbody tr th {\n",
       "        vertical-align: top;\n",
       "    }\n",
       "\n",
       "    .dataframe thead th {\n",
       "        text-align: right;\n",
       "    }\n",
       "</style>\n",
       "<table border=\"1\" class=\"dataframe\">\n",
       "  <thead>\n",
       "    <tr style=\"text-align: right;\">\n",
       "      <th></th>\n",
       "      <th>Discard_0</th>\n",
       "      <th>Discard_1</th>\n",
       "      <th>Discard_2</th>\n",
       "      <th>Discard_3</th>\n",
       "      <th>Discard_4</th>\n",
       "      <th>Discard_5</th>\n",
       "      <th>Discard_6</th>\n",
       "      <th>Discard_7</th>\n",
       "      <th>Discard_8</th>\n",
       "      <th>hand</th>\n",
       "      <th>random_tile</th>\n",
       "      <th>waiting_tile</th>\n",
       "      <th>result</th>\n",
       "    </tr>\n",
       "  </thead>\n",
       "  <tbody>\n",
       "    <tr>\n",
       "      <td>0</td>\n",
       "      <td>8</td>\n",
       "      <td>9</td>\n",
       "      <td>7</td>\n",
       "      <td>33</td>\n",
       "      <td>18</td>\n",
       "      <td>6</td>\n",
       "      <td>29</td>\n",
       "      <td>16</td>\n",
       "      <td>20</td>\n",
       "      <td>[0, 1, 2, 3, 4, 6, 9, 10, 11, 14, 14, 14, 15, 20]</td>\n",
       "      <td>6</td>\n",
       "      <td>[5, 3, 1, 0, 2, 5]</td>\n",
       "      <td>0</td>\n",
       "    </tr>\n",
       "    <tr>\n",
       "      <td>1</td>\n",
       "      <td>30</td>\n",
       "      <td>33</td>\n",
       "      <td>18</td>\n",
       "      <td>19</td>\n",
       "      <td>2</td>\n",
       "      <td>32</td>\n",
       "      <td>9</td>\n",
       "      <td>9</td>\n",
       "      <td>27</td>\n",
       "      <td>[5, 6, 7, 11, 12, 13, 14, 15, 16, 23, 24, 25, ...</td>\n",
       "      <td>7</td>\n",
       "      <td>[5, 8, 5, 4, 7, 12, 11, 24, 23]</td>\n",
       "      <td>1</td>\n",
       "    </tr>\n",
       "    <tr>\n",
       "      <td>2</td>\n",
       "      <td>23</td>\n",
       "      <td>1</td>\n",
       "      <td>3</td>\n",
       "      <td>32</td>\n",
       "      <td>19</td>\n",
       "      <td>28</td>\n",
       "      <td>11</td>\n",
       "      <td>33</td>\n",
       "      <td>1</td>\n",
       "      <td>[10, 10, 13, 14, 15, 16, 17, 25]</td>\n",
       "      <td>25</td>\n",
       "      <td>[10, 9, 11]</td>\n",
       "      <td>0</td>\n",
       "    </tr>\n",
       "    <tr>\n",
       "      <td>3</td>\n",
       "      <td>19</td>\n",
       "      <td>10</td>\n",
       "      <td>33</td>\n",
       "      <td>21</td>\n",
       "      <td>32</td>\n",
       "      <td>26</td>\n",
       "      <td>0</td>\n",
       "      <td>6</td>\n",
       "      <td>31</td>\n",
       "      <td>[1, 3, 4, 5, 6, 7, 8, 12, 14, 21, 22, 23, 25, 25]</td>\n",
       "      <td>1</td>\n",
       "      <td>[2, 5, 13, 1, 2, 14, 12]</td>\n",
       "      <td>1</td>\n",
       "    </tr>\n",
       "    <tr>\n",
       "      <td>4</td>\n",
       "      <td>29</td>\n",
       "      <td>1</td>\n",
       "      <td>2</td>\n",
       "      <td>6</td>\n",
       "      <td>21</td>\n",
       "      <td>25</td>\n",
       "      <td>11</td>\n",
       "      <td>33</td>\n",
       "      <td>13</td>\n",
       "      <td>[8, 8, 8, 9, 9, 10, 11, 12, 13, 19, 19, 22, 23...</td>\n",
       "      <td>10</td>\n",
       "      <td>[11, 18, 20, 10]</td>\n",
       "      <td>1</td>\n",
       "    </tr>\n",
       "  </tbody>\n",
       "</table>\n",
       "</div>"
      ],
      "text/plain": [
       "   Discard_0  Discard_1  Discard_2  Discard_3  Discard_4  Discard_5  \\\n",
       "0          8          9          7         33         18          6   \n",
       "1         30         33         18         19          2         32   \n",
       "2         23          1          3         32         19         28   \n",
       "3         19         10         33         21         32         26   \n",
       "4         29          1          2          6         21         25   \n",
       "\n",
       "   Discard_6  Discard_7  Discard_8  \\\n",
       "0         29         16         20   \n",
       "1          9          9         27   \n",
       "2         11         33          1   \n",
       "3          0          6         31   \n",
       "4         11         33         13   \n",
       "\n",
       "                                                hand  random_tile  \\\n",
       "0  [0, 1, 2, 3, 4, 6, 9, 10, 11, 14, 14, 14, 15, 20]            6   \n",
       "1  [5, 6, 7, 11, 12, 13, 14, 15, 16, 23, 24, 25, ...            7   \n",
       "2                   [10, 10, 13, 14, 15, 16, 17, 25]           25   \n",
       "3  [1, 3, 4, 5, 6, 7, 8, 12, 14, 21, 22, 23, 25, 25]            1   \n",
       "4  [8, 8, 8, 9, 9, 10, 11, 12, 13, 19, 19, 22, 23...           10   \n",
       "\n",
       "                      waiting_tile  result  \n",
       "0               [5, 3, 1, 0, 2, 5]       0  \n",
       "1  [5, 8, 5, 4, 7, 12, 11, 24, 23]       1  \n",
       "2                      [10, 9, 11]       0  \n",
       "3         [2, 5, 13, 1, 2, 14, 12]       1  \n",
       "4                 [11, 18, 20, 10]       1  "
      ]
     },
     "execution_count": 91,
     "metadata": {},
     "output_type": "execute_result"
    }
   ],
   "source": [
    "df = pd.read_csv('test.csv')\n",
    "df.head()"
   ]
  },
  {
   "cell_type": "markdown",
   "metadata": {},
   "source": [
    "## Preparing data."
   ]
  },
  {
   "cell_type": "code",
   "execution_count": 92,
   "metadata": {},
   "outputs": [],
   "source": [
    "X = df[['Discard_0', 'Discard_1', 'Discard_2', 'Discard_3', 'Discard_4', 'Discard_5', 'Discard_6',\n",
    "       'Discard_7', 'Discard_8', 'random_tile']]\n",
    "y = df['result']\n",
    "\n",
    "X_train, X_test, y_train, y_test = train_test_split(X, y, test_size=0.3, random_state=101)"
   ]
  },
  {
   "cell_type": "markdown",
   "metadata": {},
   "source": [
    "## Apply Logistic Regression."
   ]
  },
  {
   "cell_type": "code",
   "execution_count": 93,
   "metadata": {},
   "outputs": [
    {
     "data": {
      "text/plain": [
       "LogisticRegression(C=1.0, class_weight=None, dual=False, fit_intercept=True,\n",
       "                   intercept_scaling=1, l1_ratio=None, max_iter=100,\n",
       "                   multi_class='auto', n_jobs=None, penalty='l2',\n",
       "                   random_state=None, solver='lbfgs', tol=0.0001, verbose=0,\n",
       "                   warm_start=False)"
      ]
     },
     "execution_count": 93,
     "metadata": {},
     "output_type": "execute_result"
    }
   ],
   "source": [
    "logmodel = LogisticRegression(solver='lbfgs', multi_class='auto')\n",
    "logmodel.fit(X_train, y_train)"
   ]
  },
  {
   "cell_type": "markdown",
   "metadata": {},
   "source": [
    "## Display accuracy compare with testing data."
   ]
  },
  {
   "cell_type": "code",
   "execution_count": 98,
   "metadata": {
    "scrolled": true
   },
   "outputs": [
    {
     "name": "stdout",
     "output_type": "stream",
     "text": [
      "Accuaacy of Logistic Regression: 0.6576487948844073\n"
     ]
    }
   ],
   "source": [
    "predicted = logmodel.predict(X_test)\n",
    "print(\"Accuaacy of Logistic Regression:\", metrics.accuracy_score(y_test, predicted))"
   ]
  },
  {
   "cell_type": "markdown",
   "metadata": {},
   "source": [
    "## Cross-Validation"
   ]
  },
  {
   "cell_type": "code",
   "execution_count": 99,
   "metadata": {
    "scrolled": false
   },
   "outputs": [
    {
     "name": "stdout",
     "output_type": "stream",
     "text": [
      "Mean Accuaacy of Cross-Validation: 0.6534830950760155\n"
     ]
    }
   ],
   "source": [
    "scores = cross_val_score(LogisticRegression(solver='lbfgs', multi_class='auto'), X, y, scoring='accuracy', cv=10)\n",
    "print(\"Mean Accuaacy of Cross-Validation:\" ,scores.mean())"
   ]
  },
  {
   "cell_type": "markdown",
   "metadata": {},
   "source": [
    "## Predict a new input"
   ]
  },
  {
   "cell_type": "code",
   "execution_count": 100,
   "metadata": {},
   "outputs": [],
   "source": [
    "data = np.array([0, 8, 9, 7, 33, 18, 6, 29, 16, 20])\n",
    "columns=['Discard_0', 'Discard_1', 'Discard_2', 'Discard_3', 'Discard_4', 'Discard_5',\n",
    "         'Discard_6', 'Discard_7', 'Discard_8', 'random_tile']\n",
    "df2 = pd.DataFrame(data.reshape(-1, len(data)),columns=columns)"
   ]
  },
  {
   "cell_type": "code",
   "execution_count": 85,
   "metadata": {},
   "outputs": [],
   "source": [
    "y = logmodel.predict(df2)"
   ]
  },
  {
   "cell_type": "code",
   "execution_count": 86,
   "metadata": {},
   "outputs": [
    {
     "name": "stdout",
     "output_type": "stream",
     "text": [
      "[[0.65623778 0.34376222]]\n"
     ]
    }
   ],
   "source": [
    "print(y)"
   ]
  }
 ],
 "metadata": {
  "kernelspec": {
   "display_name": "Python 3",
   "language": "python",
   "name": "python3"
  },
  "language_info": {
   "codemirror_mode": {
    "name": "ipython",
    "version": 3
   },
   "file_extension": ".py",
   "mimetype": "text/x-python",
   "name": "python",
   "nbconvert_exporter": "python",
   "pygments_lexer": "ipython3",
   "version": "3.7.4"
  }
 },
 "nbformat": 4,
 "nbformat_minor": 2
}
