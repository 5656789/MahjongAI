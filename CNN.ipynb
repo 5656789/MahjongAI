{
 "cells": [
  {
   "cell_type": "code",
   "execution_count": 20,
   "metadata": {},
   "outputs": [],
   "source": [
    "import tensorflow\n",
    "from tensorflow.keras.models import Sequential\n",
    "from tensorflow.keras.layers import Dense, Dropout, Activation, Flatten, Conv1D, MaxPooling1D\n",
    "import pandas as pd\n",
    "import numpy as np\n",
    "from sklearn.model_selection import train_test_split\n"
   ]
  },
  {
   "cell_type": "code",
   "execution_count": 4,
   "metadata": {},
   "outputs": [
    {
     "name": "stdout",
     "output_type": "stream",
     "text": [
      "(1003340, 52)\n"
     ]
    }
   ],
   "source": [
    "df = pd.read_csv('test.csv')\n",
    "print(df.shape)"
   ]
  },
  {
   "cell_type": "code",
   "execution_count": 53,
   "metadata": {},
   "outputs": [
    {
     "name": "stdout",
     "output_type": "stream",
     "text": [
      "(702338, 1, 47)\n",
      "(702338, 1, 1)\n",
      "Train on 632104 samples, validate on 70234 samples\n",
      "632104/632104 [==============================] - 131s 207us/sample - loss: 0.1753 - accuracy: 0.9559 - val_loss: 0.1691 - val_accuracy: 0.9566\n"
     ]
    },
    {
     "data": {
      "text/plain": [
       "<tensorflow.python.keras.callbacks.History at 0x22ab66b5d08>"
      ]
     },
     "execution_count": 53,
     "metadata": {},
     "output_type": "execute_result"
    }
   ],
   "source": [
    "X = df[['discard_tile_0', 'discard_tile_1', 'discard_tile_2', 'discard_tile_3', 'discard_tile_4', 'discard_tile_5', 'discard_tile_6',\n",
    "       'discard_tile_7', 'discard_tile_8', 'discard_tile_9','discard_tile_10','discard_tile_11','discard_tile_12','discard_tile_13',\n",
    "    'discard_tile_14','discard_tile_15','discard_tile_16','discard_tile_17','discard_tile_18','discard_tile_19','discard_tile_20',\n",
    "        'discard_tile_21','discard_tile_22','discard_tile_23','discard_tile_24','discard_tile_25','discard_tile_26','discard_tile_27',\n",
    "        'discard_tile_28','discard_tile_29','discard_tile_30','discard_tile_31','discard_tile_32','discard_tile_33',\n",
    "        'random_tile_num_0','random_tile_num_1','random_tile_num_2','random_tile_num_3','random_tile_num_4','random_tile_num_5',\n",
    "        'random_tile_num_6','random_tile_num_7','random_tile_num_8','random_honor','random_man','random_pin','random_sou']]\n",
    "y = df['result']\n",
    "X = X.values\n",
    "y = y.values\n",
    "\n",
    "\n",
    "\n",
    "X_train, X_test, y_train, y_test = train_test_split(X, y, test_size=0.3, random_state=101)\n",
    "\n",
    "\n",
    "X_train = X_train.reshape(-1,1,47)\n",
    "y_train = y_train.reshape(-1,1,1)\n",
    "\n",
    "print(X_train.shape)\n",
    "print(y_train.shape)\n",
    "\n",
    "model = Sequential()\n",
    "\n",
    "model.add( Conv1D(filters=64,kernel_size=1,input_shape=X_train.shape[1:]) )\n",
    "model.add(Activation('relu'))\n",
    "model.add(MaxPooling1D(pool_size=1))\n",
    "\n",
    "model.add( Conv1D(filters=1,kernel_size=1) )\n",
    "model.add(Activation('relu'))\n",
    "model.add(MaxPooling1D(pool_size=1))\n",
    "\n",
    "model.add(Dense(1))\n",
    "model.add(Activation('sigmoid'))\n",
    "\n",
    "model.compile(loss='binary_crossentropy',\n",
    "             optimizer='adam',\n",
    "             metrics=['accuracy'])\n",
    "\n",
    "model.fit(x=X_train,y=y_train,validation_split=0.1,epochs=1)"
   ]
  }
 ],
 "metadata": {
  "kernelspec": {
   "display_name": "Python 3",
   "language": "python",
   "name": "python3"
  },
  "language_info": {
   "codemirror_mode": {
    "name": "ipython",
    "version": 3
   },
   "file_extension": ".py",
   "mimetype": "text/x-python",
   "name": "python",
   "nbconvert_exporter": "python",
   "pygments_lexer": "ipython3",
   "version": "3.7.4"
  }
 },
 "nbformat": 4,
 "nbformat_minor": 2
}
